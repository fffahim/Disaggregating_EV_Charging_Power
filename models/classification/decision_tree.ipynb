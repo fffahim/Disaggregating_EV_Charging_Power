{
 "cells": [
  {
   "cell_type": "code",
   "execution_count": 251,
   "metadata": {},
   "outputs": [],
   "source": [
    "import pandas as pd\n",
    "from sklearn.model_selection import train_test_split\n",
    "from sklearn.tree import DecisionTreeClassifier\n",
    "from sklearn.preprocessing import StandardScaler, LabelEncoder\n",
    "from sklearn.metrics import accuracy_score, classification_report, precision_score, recall_score, f1_score\n",
    "from sklearn.model_selection import cross_val_score\n"
   ]
  },
  {
   "cell_type": "code",
   "execution_count": 160,
   "metadata": {},
   "outputs": [],
   "source": [
    "def extract_datetime_features(df):\n",
    "    df['hour'] = df['local_15min'].dt.hour\n",
    "    df['minute'] = df['local_15min'].dt.minute\n",
    "    df['day_of_week'] = df['local_15min'].dt.dayofweek\n",
    "    df['day_of_month'] = df['local_15min'].dt.day\n",
    "    df['month'] = df['local_15min'].dt.month\n",
    "    df['weekend'] = df['local_15min'].dt.dayofweek >= 5  # True if it's a weekend (Saturday or Sunday)\n",
    "    df['ev_present'] = df['ev_car'].apply(lambda x: 1 if x >=1 else 0)  # True if there is an electric vehicle present\n",
    "    return df"
   ]
  },
  {
   "cell_type": "code",
   "execution_count": 222,
   "metadata": {},
   "outputs": [],
   "source": [
    "def preprocess_data(df):\n",
    "    # Ensure the datetime column is in the correct format\n",
    "    df['local_15min'] = pd.to_datetime(df['local_15min'], utc=True)\n",
    "\n",
    "    # Extract useful features from datetime\n",
    "    df = extract_datetime_features(df)\n",
    "\n",
    "    # Drop the original datetime column (or keep it if necessary)\n",
    "    df = df.drop(columns=['local_15min', 'ev_car', 'solar', 'grid', 'total_usage'])\n",
    "\n",
    "    # Encode categorical columns (if 'house_type', 'day_of_the_week', etc. are categorical)\n",
    "    label_encoders = {}\n",
    "    for column in ['house_type']:  # Add other categorical columns as needed\n",
    "        label_encoders[column] = LabelEncoder()\n",
    "        df[column] = label_encoders[column].fit_transform(df[column])\n",
    "\n",
    "    # Extract features and label\n",
    "    y = df['ev_present'].values\n",
    "    df.drop(columns=['ev_present'], inplace=True)\n",
    "    X = df.values  # Features (everything except 'ev_present')\n",
    "\n",
    "    # Split into training and test sets\n",
    "    X_train, X_test, y_train, y_test = train_test_split(X, y, test_size=0.25, shuffle=False)\n",
    "\n",
    "    # Standardize the features (important for some models)\n",
    "    # scaler = StandardScaler()\n",
    "    # X_train = scaler.fit_transform(X_train)\n",
    "    # X_test = scaler.transform(X_test)\n",
    "\n",
    "    return X_train, X_test, y_train, y_test"
   ]
  },
  {
   "cell_type": "code",
   "execution_count": 242,
   "metadata": {},
   "outputs": [],
   "source": [
    "def train_decision_tree(X_train, y_train, X_test, y_test):\n",
    "    # Initialize the Decision Tree model\n",
    "    clf = DecisionTreeClassifier(max_depth=5, random_state=42)\n",
    "\n",
    "    # Train the model\n",
    "    clf.fit(X_train, y_train)\n",
    "\n",
    "    # Make predictions on the train and test sets\n",
    "    y_pred_train = clf.predict(X_train)\n",
    "    y_pred_test = clf.predict(X_test)\n",
    "\n",
    "    # Evaluate the model\n",
    "    train_acc = accuracy_score(y_train, y_pred_train)\n",
    "    test_acc = accuracy_score(y_test, y_pred_test)\n",
    "\n",
    "    # Precision, recall, and F1-score\n",
    "    precision = precision_score(y_test, y_pred_test, average='binary', zero_division=0)\n",
    "    recall = recall_score(y_test, y_pred_test, average='binary', zero_division=0)\n",
    "    f1 = f1_score(y_test, y_pred_test, average='binary', zero_division=0)\n",
    "\n",
    "    scores = cross_val_score(clf, X_train, y_train, cv=5)\n",
    "    print(f\"Cross-validation scores: {scores}\")\n",
    "\n",
    "    print(f\"Training Accuracy: {train_acc:.4f}\")\n",
    "    print(f\"Test Accuracy: {test_acc:.4f}\")\n",
    "    print(f\"Precision: {precision:.4f}\")\n",
    "    print(f\"Recall: {recall:.4f}\")\n",
    "    print(f\"F1 Score: {f1:.4f}\")\n",
    "    print(\"\\nDetailed Classification Report:\\n\", classification_report(y_test, y_pred_test))\n"
   ]
  },
  {
   "cell_type": "code",
   "execution_count": 243,
   "metadata": {},
   "outputs": [],
   "source": [
    "def main(df):\n",
    "    # Preprocess the data\n",
    "    X_train, X_test, y_train, y_test = preprocess_data(df)\n",
    "\n",
    "    # Train and evaluate the Decision Tree model\n",
    "    train_decision_tree(X_train, y_train, X_test, y_test)"
   ]
  },
  {
   "cell_type": "code",
   "execution_count": 248,
   "metadata": {},
   "outputs": [],
   "source": [
    "source = 'pecan_street'\n",
    "area = 'austin'\n",
    "house = 6139\n",
    "df = pd.read_csv(f'../../Dataset/{source}/{area}/house_energy_compressed/{house}_compressed.csv', parse_dates=['local_15min'])"
   ]
  },
  {
   "cell_type": "code",
   "execution_count": null,
   "metadata": {},
   "outputs": [],
   "source": [
    "main(df)"
   ]
  }
 ],
 "metadata": {
  "kernelspec": {
   "display_name": "base",
   "language": "python",
   "name": "python3"
  },
  "language_info": {
   "codemirror_mode": {
    "name": "ipython",
    "version": 3
   },
   "file_extension": ".py",
   "mimetype": "text/x-python",
   "name": "python",
   "nbconvert_exporter": "python",
   "pygments_lexer": "ipython3",
   "version": "3.9.18"
  }
 },
 "nbformat": 4,
 "nbformat_minor": 2
}
