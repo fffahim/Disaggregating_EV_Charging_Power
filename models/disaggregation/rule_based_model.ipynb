{
 "cells": [
  {
   "cell_type": "code",
   "execution_count": 26,
   "metadata": {},
   "outputs": [
    {
     "name": "stdout",
     "output_type": "stream",
     "text": [
      "Detected Events (start_index, end_index, magnitude):\n"
     ]
    }
   ],
   "source": [
    "import numpy as np\n",
    "\n",
    "# Step 1: Low-Amplitude Filtering\n",
    "def low_amplitude_filtering(power_series, threshold=3.0):\n",
    "    \"\"\"\n",
    "    Filters out signals with an amplitude lower than the threshold.\n",
    "    \n",
    "    Args:\n",
    "    power_series (numpy array): The time series of aggregated power data.\n",
    "    threshold (float): The filtering threshold to remove small power appliances.\n",
    "    \n",
    "    Returns:\n",
    "    numpy array: The filtered power time series.\n",
    "    \"\"\"\n",
    "    # Remove noise and filter out low-power signals\n",
    "    filtered_power = np.where(power_series >= threshold, power_series, 0)\n",
    "    return filtered_power\n",
    "\n",
    "# Step 2: Short-Term PCE Filtering\n",
    "def short_term_pce_filtering(power_series, min_duration=20, max_duration=3.72 * 60):\n",
    "    \"\"\"\n",
    "    Filters out events that are too short or too long to be EV charging events.\n",
    "    \n",
    "    Args:\n",
    "    power_series (numpy array): The filtered power time series from step 1.\n",
    "    min_duration (int): Minimum duration in minutes for an event to be considered EV charging.\n",
    "    max_duration (int): Maximum duration in minutes for an event to be considered EV charging.\n",
    "    \n",
    "    Returns:\n",
    "    numpy array: The filtered power time series after removing short-duration events.\n",
    "    \"\"\"\n",
    "    filtered_power = np.copy(power_series)\n",
    "    current_event_start = None\n",
    "    \n",
    "    # Loop over the power series to identify events\n",
    "    for i in range(len(power_series)):\n",
    "        if power_series[i] > 0:\n",
    "            if current_event_start is None:\n",
    "                current_event_start = i\n",
    "        else:\n",
    "            if current_event_start is not None:\n",
    "                # Calculate the event duration\n",
    "                duration = i - current_event_start\n",
    "                if duration < min_duration or duration > max_duration:\n",
    "                    # Filter out the event if duration does not match EV charging event duration\n",
    "                    filtered_power[current_event_start:i] = 0\n",
    "                current_event_start = None\n",
    "\n",
    "    return filtered_power\n",
    "\n",
    "# Step 3: Event Detection and Matching\n",
    "def detect_and_match_events(power_series, edge_threshold=1.5, skip_points=3):\n",
    "    \"\"\"\n",
    "    Detects and matches events by identifying the edges in the power series using skipping difference.\n",
    "    \n",
    "    Args:\n",
    "    power_series (numpy array): The filtered power time series from previous steps.\n",
    "    edge_threshold (float): The threshold for detecting a significant event edge.\n",
    "    skip_points (int): The number of points to skip in the skipping difference method.\n",
    "    \n",
    "    Returns:\n",
    "    list of tuples: A list of detected events in the format (start_index, end_index, event_magnitude).\n",
    "    \"\"\"\n",
    "    events = []\n",
    "    event_start = None\n",
    "    \n",
    "    for i in range(len(power_series) - skip_points):\n",
    "        # Calculate the skipping difference between power points\n",
    "        power_diff = power_series[i + skip_points] - power_series[i]\n",
    "        \n",
    "        # Detect rising edge\n",
    "        if power_diff >= edge_threshold:\n",
    "            if event_start is None:  # Start of a new event\n",
    "                event_start = i\n",
    "        \n",
    "        # Detect falling edge and match it with the rising edge\n",
    "        elif power_diff <= -edge_threshold:\n",
    "            if event_start is not None:  # We have a complete event\n",
    "                event_end = i + skip_points\n",
    "                event_magnitude = power_series[event_end] - power_series[event_start]\n",
    "                # Check if the rising and falling edges are part of the same event\n",
    "                if abs(event_magnitude) > edge_threshold:\n",
    "                    events.append((event_start, event_end, event_magnitude))\n",
    "                event_start = None  # Reset for the next event\n",
    "    \n",
    "    return events\n",
    "\n",
    "# Example Usage:\n",
    "# Example time series of aggregated power data (in kW)\n",
    "power_series = np.array([0, 0.5, 1, 2, 4, 6, 0, 0, 3, 5, 7, 0, 0.8, 2, 0])\n",
    "\n",
    "# Step 1: Low-Amplitude Filtering\n",
    "filtered_power_step1 = low_amplitude_filtering(power_series, threshold=2.5)\n",
    "\n",
    "# Step 2: Short-Term PCE Filtering\n",
    "filtered_power_step2 = short_term_pce_filtering(filtered_power_step1, min_duration=20, max_duration=3.72 * 60)\n",
    "\n",
    "# Step 3: Event Detection and Matching\n",
    "events = detect_and_match_events(filtered_power_step2, edge_threshold=1.5, skip_points=3)\n",
    "\n",
    "# Display the detected events\n",
    "print(\"Detected Events (start_index, end_index, magnitude):\")\n",
    "for event in events:\n",
    "    print(event)\n"
   ]
  },
  {
   "cell_type": "code",
   "execution_count": 25,
   "metadata": {},
   "outputs": [
    {
     "data": {
      "text/plain": [
       "array([0., 0., 0., 0., 0., 0., 0., 0., 0., 0., 0., 0., 0., 0., 0.])"
      ]
     },
     "execution_count": 25,
     "metadata": {},
     "output_type": "execute_result"
    }
   ],
   "source": [
    "filtered_power_step2"
   ]
  },
  {
   "cell_type": "code",
   "execution_count": null,
   "metadata": {},
   "outputs": [],
   "source": []
  }
 ],
 "metadata": {
  "kernelspec": {
   "display_name": "base",
   "language": "python",
   "name": "python3"
  },
  "language_info": {
   "codemirror_mode": {
    "name": "ipython",
    "version": 3
   },
   "file_extension": ".py",
   "mimetype": "text/x-python",
   "name": "python",
   "nbconvert_exporter": "python",
   "pygments_lexer": "ipython3",
   "version": "3.9.18"
  }
 },
 "nbformat": 4,
 "nbformat_minor": 2
}
